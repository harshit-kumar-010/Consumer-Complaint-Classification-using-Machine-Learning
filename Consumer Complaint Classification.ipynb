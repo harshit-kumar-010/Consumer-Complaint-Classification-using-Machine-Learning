{
 "cells": [
  {
   "cell_type": "markdown",
   "id": "37969e74",
   "metadata": {},
   "source": [
    "# Consumer Complaint Identification"
   ]
  },
  {
   "cell_type": "markdown",
   "id": "eb5c3ae2",
   "metadata": {},
   "source": [
    "_Every consumer care department gets thousands of complaints every day_ \n",
    "\n",
    "_The department needs to identify the nature of complaints to act on the most important ones first_"
   ]
  },
  {
   "cell_type": "markdown",
   "id": "56cc3e6b",
   "metadata": {},
   "source": [
    "_The Dataset is based on the consumer complaints collected by Consumer Financial Protection Bureau_\n",
    "\n",
    "_Features in the dataset:_\n",
    "\n",
    "* Date received: The date on which the complaint received\n",
    "* Product: Type of product in which the consumer identified complaint\n",
    "* Sub-product: Type of sub-product in which the consumer identified complaint\n",
    "* Issue: The issue reported by the consumer\n",
    "* Sub-issue: The sub-issue reported by the consumer\n",
    "* Consumer complaint narrative: Complete description of the complaint reported by the consumer"
   ]
  },
  {
   "cell_type": "markdown",
   "id": "d8ff14a9",
   "metadata": {},
   "source": [
    "_GOAL:_\n",
    "\n",
    "* To identify the category of the complaint filed by the consumer \n",
    "* To identify the most important issues to be addressed first \n",
    "\n",
    "_The Product column contains the name of the product where the consumer found issues_\n",
    "_So, the Product column is the target variable in this classification problem_"
   ]
  },
  {
   "cell_type": "code",
   "execution_count": 1,
   "id": "35ef531c",
   "metadata": {},
   "outputs": [],
   "source": [
    "# importing the necessary libraries\n",
    "import pandas as pd\n",
    "import numpy as np\n",
    "from sklearn.feature_extraction.text import CountVectorizer\n",
    "from sklearn.model_selection import train_test_split\n",
    "from sklearn.naive_bayes import MultinomialNB\n",
    "from sklearn.linear_model import SGDClassifier\n",
    "import nltk\n",
    "import re\n",
    "from nltk.corpus import stopwords\n",
    "import string"
   ]
  },
  {
   "cell_type": "code",
   "execution_count": 2,
   "id": "5c44a752",
   "metadata": {},
   "outputs": [
    {
     "name": "stdout",
     "output_type": "stream",
     "text": [
      "   Unnamed: 0 Date received  \\\n",
      "0           0    2022-11-11   \n",
      "1           1    2022-11-23   \n",
      "2           2    2022-11-16   \n",
      "3           3    2022-11-15   \n",
      "4           4    2022-11-07   \n",
      "\n",
      "                                             Product  \\\n",
      "0                                           Mortgage   \n",
      "1  Credit reporting, credit repair services, or o...   \n",
      "2                                           Mortgage   \n",
      "3                        Checking or savings account   \n",
      "4                                           Mortgage   \n",
      "\n",
      "                  Sub-product                           Issue  \\\n",
      "0  Conventional home mortgage  Trouble during payment process   \n",
      "1            Credit reporting     Improper use of your report   \n",
      "2                 VA mortgage  Trouble during payment process   \n",
      "3            Checking account             Managing an account   \n",
      "4      Other type of mortgage  Trouble during payment process   \n",
      "\n",
      "                                       Sub-issue  \\\n",
      "0                                            NaN   \n",
      "1  Reporting company used your report improperly   \n",
      "2                                            NaN   \n",
      "3                                    Fee problem   \n",
      "4                                            NaN   \n",
      "\n",
      "                        Consumer complaint narrative  \n",
      "0                                                NaN  \n",
      "1                                                NaN  \n",
      "2                                                NaN  \n",
      "3  Hi, I have been banking with Wells Fargo for o...  \n",
      "4                                                NaN  \n"
     ]
    }
   ],
   "source": [
    "# Importing the dataset\n",
    "data = pd.read_csv(\"C:\\\\Users\\\\kumar\\\\OneDrive\\\\Desktop\\\\Projects\\\\Python project\\\\Consumer Complaint Classification\\\\consumer complaints dataset.csv\")\n",
    "print(data.head())"
   ]
  },
  {
   "cell_type": "markdown",
   "id": "6aaf9a92",
   "metadata": {},
   "source": [
    "Dataset contains 1 unnamed column"
   ]
  },
  {
   "cell_type": "code",
   "execution_count": 3,
   "id": "6011c00b",
   "metadata": {},
   "outputs": [],
   "source": [
    "# Removing that unnamed column\n",
    "data = data.drop(\"Unnamed: 0\",axis=1)"
   ]
  },
  {
   "cell_type": "code",
   "execution_count": 4,
   "id": "58988330",
   "metadata": {},
   "outputs": [
    {
     "name": "stdout",
     "output_type": "stream",
     "text": [
      "Date received                         0\n",
      "Product                               0\n",
      "Sub-product                      235294\n",
      "Issue                                 0\n",
      "Sub-issue                        683355\n",
      "Consumer complaint narrative    1987977\n",
      "dtype: int64\n"
     ]
    }
   ],
   "source": [
    "# Checking whether there are any null values in the dataset\n",
    "print(data.isnull().sum())"
   ]
  },
  {
   "cell_type": "markdown",
   "id": "abfc1db0",
   "metadata": {},
   "source": [
    "As we can see, there so many null values within our dataset"
   ]
  },
  {
   "cell_type": "code",
   "execution_count": 5,
   "id": "aa0bc93e",
   "metadata": {},
   "outputs": [],
   "source": [
    "# Removing the null values\n",
    "data = data.dropna()"
   ]
  },
  {
   "cell_type": "markdown",
   "id": "50f53956",
   "metadata": {},
   "source": [
    "product column in the dataset contains the labels which represent the nature of the complaints reported by the consumers"
   ]
  },
  {
   "cell_type": "code",
   "execution_count": 6,
   "id": "1a8074c9",
   "metadata": {},
   "outputs": [
    {
     "name": "stdout",
     "output_type": "stream",
     "text": [
      "Credit reporting, credit repair services, or other personal consumer reports    507582\n",
      "Debt collection                                                                 192045\n",
      "Credit card or prepaid card                                                      80410\n",
      "Checking or savings account                                                      54192\n",
      "Student loan                                                                     32697\n",
      "Vehicle loan or lease                                                            19874\n",
      "Payday loan, title loan, or personal loan                                         1008\n",
      "Name: Product, dtype: int64\n"
     ]
    }
   ],
   "source": [
    "# Viewing all labels and their frequencies\n",
    "print(data[\"Product\"].value_counts())"
   ]
  },
  {
   "cell_type": "markdown",
   "id": "333ab702",
   "metadata": {},
   "source": [
    "As we can see, most of the complaints are regarding \"Credit reporting, credit repair services, or other personal consumer reports\" and then \"Debt collection\" while the lowest number of complaints are regarding \"Payday loan, title loan, or personal loan\""
   ]
  },
  {
   "cell_type": "markdown",
   "id": "970180ed",
   "metadata": {},
   "source": [
    "# Training Consumer Complaint Classification Model"
   ]
  },
  {
   "cell_type": "markdown",
   "id": "b6789e05",
   "metadata": {},
   "source": [
    "The \"consumer complaint narrative\" column contains the complete description of the complaints reported by the consumer"
   ]
  },
  {
   "cell_type": "code",
   "execution_count": null,
   "id": "d7935ea1",
   "metadata": {},
   "outputs": [],
   "source": [
    "# cleaning and preparing this column before using it in a Machine Learning model\n",
    "nltk.download('stopwords')\n",
    "stemmer = nltk.SnowballStemmer(\"english\")\n",
    "stopword = set(stopwords.words('english'))\n",
    "\n",
    "def clean(text):\n",
    "    text = str(text).lower()\n",
    "    text = re.sub('\\[.*?\\]', '', text)\n",
    "    text = re.sub('https?://\\S+|www\\.\\S+', '', text)\n",
    "    text = re.sub('<.*?>+', '', text)\n",
    "    text = re.sub('[%s]' % re.escape(string.punctuation), '', text)\n",
    "    text = re.sub('\\n', '', text)\n",
    "    text = re.sub('\\w*\\d\\w*', '', text)\n",
    "    text = [word for word in text.split(' ') if word not in stopword]\n",
    "    text=\" \".join(text)\n",
    "    text = [stemmer.stem(word) for word in text.split(' ')]\n",
    "    text=\" \".join(text)\n",
    "    return text\n",
    "data[\"Consumer complaint narrative\"] = data[\"Consumer complaint narrative\"].apply(clean)"
   ]
  },
  {
   "cell_type": "code",
   "execution_count": 7,
   "id": "284cc73a",
   "metadata": {},
   "outputs": [],
   "source": [
    "# splitting the data into training and test sets\n",
    "data = data[[\"Consumer complaint narrative\", \"Product\"]]\n",
    "x = np.array(data[\"Consumer complaint narrative\"])\n",
    "y = np.array(data[\"Product\"])\n",
    "\n",
    "cv = CountVectorizer()\n",
    "X = cv.fit_transform(x)\n",
    "X_train, X_test, y_train, y_test = train_test_split(X, y, \n",
    "                                                    test_size=0.33, \n",
    "                                                    random_state=42)"
   ]
  },
  {
   "cell_type": "code",
   "execution_count": 8,
   "id": "aaad97e3",
   "metadata": {},
   "outputs": [
    {
     "data": {
      "text/html": [
       "<style>#sk-container-id-1 {color: black;background-color: white;}#sk-container-id-1 pre{padding: 0;}#sk-container-id-1 div.sk-toggleable {background-color: white;}#sk-container-id-1 label.sk-toggleable__label {cursor: pointer;display: block;width: 100%;margin-bottom: 0;padding: 0.3em;box-sizing: border-box;text-align: center;}#sk-container-id-1 label.sk-toggleable__label-arrow:before {content: \"▸\";float: left;margin-right: 0.25em;color: #696969;}#sk-container-id-1 label.sk-toggleable__label-arrow:hover:before {color: black;}#sk-container-id-1 div.sk-estimator:hover label.sk-toggleable__label-arrow:before {color: black;}#sk-container-id-1 div.sk-toggleable__content {max-height: 0;max-width: 0;overflow: hidden;text-align: left;background-color: #f0f8ff;}#sk-container-id-1 div.sk-toggleable__content pre {margin: 0.2em;color: black;border-radius: 0.25em;background-color: #f0f8ff;}#sk-container-id-1 input.sk-toggleable__control:checked~div.sk-toggleable__content {max-height: 200px;max-width: 100%;overflow: auto;}#sk-container-id-1 input.sk-toggleable__control:checked~label.sk-toggleable__label-arrow:before {content: \"▾\";}#sk-container-id-1 div.sk-estimator input.sk-toggleable__control:checked~label.sk-toggleable__label {background-color: #d4ebff;}#sk-container-id-1 div.sk-label input.sk-toggleable__control:checked~label.sk-toggleable__label {background-color: #d4ebff;}#sk-container-id-1 input.sk-hidden--visually {border: 0;clip: rect(1px 1px 1px 1px);clip: rect(1px, 1px, 1px, 1px);height: 1px;margin: -1px;overflow: hidden;padding: 0;position: absolute;width: 1px;}#sk-container-id-1 div.sk-estimator {font-family: monospace;background-color: #f0f8ff;border: 1px dotted black;border-radius: 0.25em;box-sizing: border-box;margin-bottom: 0.5em;}#sk-container-id-1 div.sk-estimator:hover {background-color: #d4ebff;}#sk-container-id-1 div.sk-parallel-item::after {content: \"\";width: 100%;border-bottom: 1px solid gray;flex-grow: 1;}#sk-container-id-1 div.sk-label:hover label.sk-toggleable__label {background-color: #d4ebff;}#sk-container-id-1 div.sk-serial::before {content: \"\";position: absolute;border-left: 1px solid gray;box-sizing: border-box;top: 0;bottom: 0;left: 50%;z-index: 0;}#sk-container-id-1 div.sk-serial {display: flex;flex-direction: column;align-items: center;background-color: white;padding-right: 0.2em;padding-left: 0.2em;position: relative;}#sk-container-id-1 div.sk-item {position: relative;z-index: 1;}#sk-container-id-1 div.sk-parallel {display: flex;align-items: stretch;justify-content: center;background-color: white;position: relative;}#sk-container-id-1 div.sk-item::before, #sk-container-id-1 div.sk-parallel-item::before {content: \"\";position: absolute;border-left: 1px solid gray;box-sizing: border-box;top: 0;bottom: 0;left: 50%;z-index: -1;}#sk-container-id-1 div.sk-parallel-item {display: flex;flex-direction: column;z-index: 1;position: relative;background-color: white;}#sk-container-id-1 div.sk-parallel-item:first-child::after {align-self: flex-end;width: 50%;}#sk-container-id-1 div.sk-parallel-item:last-child::after {align-self: flex-start;width: 50%;}#sk-container-id-1 div.sk-parallel-item:only-child::after {width: 0;}#sk-container-id-1 div.sk-dashed-wrapped {border: 1px dashed gray;margin: 0 0.4em 0.5em 0.4em;box-sizing: border-box;padding-bottom: 0.4em;background-color: white;}#sk-container-id-1 div.sk-label label {font-family: monospace;font-weight: bold;display: inline-block;line-height: 1.2em;}#sk-container-id-1 div.sk-label-container {text-align: center;}#sk-container-id-1 div.sk-container {/* jupyter's `normalize.less` sets `[hidden] { display: none; }` but bootstrap.min.css set `[hidden] { display: none !important; }` so we also need the `!important` here to be able to override the default hidden behavior on the sphinx rendered scikit-learn.org. See: https://github.com/scikit-learn/scikit-learn/issues/21755 */display: inline-block !important;position: relative;}#sk-container-id-1 div.sk-text-repr-fallback {display: none;}</style><div id=\"sk-container-id-1\" class=\"sk-top-container\"><div class=\"sk-text-repr-fallback\"><pre>SGDClassifier()</pre><b>In a Jupyter environment, please rerun this cell to show the HTML representation or trust the notebook. <br />On GitHub, the HTML representation is unable to render, please try loading this page with nbviewer.org.</b></div><div class=\"sk-container\" hidden><div class=\"sk-item\"><div class=\"sk-estimator sk-toggleable\"><input class=\"sk-toggleable__control sk-hidden--visually\" id=\"sk-estimator-id-1\" type=\"checkbox\" checked><label for=\"sk-estimator-id-1\" class=\"sk-toggleable__label sk-toggleable__label-arrow\">SGDClassifier</label><div class=\"sk-toggleable__content\"><pre>SGDClassifier()</pre></div></div></div></div></div>"
      ],
      "text/plain": [
       "SGDClassifier()"
      ]
     },
     "execution_count": 8,
     "metadata": {},
     "output_type": "execute_result"
    }
   ],
   "source": [
    "# Training the Machine Learning model using the Stochastic Gradient Descent classification algorithm\n",
    "sgdmodel = SGDClassifier()\n",
    "sgdmodel.fit(X_train,y_train) "
   ]
  },
  {
   "cell_type": "code",
   "execution_count": 10,
   "id": "aefbae4a",
   "metadata": {},
   "outputs": [
    {
     "name": "stdout",
     "output_type": "stream",
     "text": [
      "Enter a Text: Investigation took more than 30 days and nothing was changed when clearly there are misleading, incorrect, inaccurate items on my credit report..i have those two accounts attached showing those inaccuracies... I need them to follow the law because this is a violation of my rights!! The EVIDENCE IS IN BLACK AND WHITE ....\n",
      "Consumer Complaint Classification Type =  ['Credit reporting, credit repair services, or other personal consumer reports']\n"
     ]
    }
   ],
   "source": [
    "# Using the trained model to make predictions\n",
    "user = input(\"Enter a Text: \")\n",
    "data = cv.transform([user]).toarray()\n",
    "output = sgdmodel.predict(data)\n",
    "print(\"Consumer Complaint Classification Type = \",output)"
   ]
  },
  {
   "cell_type": "code",
   "execution_count": null,
   "id": "adcbbb44",
   "metadata": {},
   "outputs": [],
   "source": []
  }
 ],
 "metadata": {
  "kernelspec": {
   "display_name": "Python 3 (ipykernel)",
   "language": "python",
   "name": "python3"
  },
  "language_info": {
   "codemirror_mode": {
    "name": "ipython",
    "version": 3
   },
   "file_extension": ".py",
   "mimetype": "text/x-python",
   "name": "python",
   "nbconvert_exporter": "python",
   "pygments_lexer": "ipython3",
   "version": "3.9.12"
  }
 },
 "nbformat": 4,
 "nbformat_minor": 5
}
